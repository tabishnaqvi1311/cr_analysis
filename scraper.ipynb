{
 "cells": [
  {
   "cell_type": "code",
   "execution_count": 1,
   "metadata": {},
   "outputs": [],
   "source": [
    "from bs4 import BeautifulSoup \n",
    "import requests\n",
    "import pandas as pd"
   ]
  },
  {
   "cell_type": "code",
   "execution_count": 2,
   "metadata": {},
   "outputs": [],
   "source": [
    "baseUrl = \"https://clashroyale.fandom.com/wiki/Cards\"\n",
    "\n",
    "result = requests.get(baseUrl)\n",
    "doc = BeautifulSoup(result.text, \"html.parser\")"
   ]
  },
  {
   "cell_type": "code",
   "execution_count": 3,
   "metadata": {},
   "outputs": [],
   "source": [
    "cards = [[\"Name\", \"Elixir Cost\", \"Hitpoints\", \"Damage\", \"Hit Speed\", \"DPS\", \"Type\"]]\n",
    "\n",
    "tables = doc.find_all(\"table\")\n",
    "troops = tables[0]\n"
   ]
  },
  {
   "cell_type": "code",
   "execution_count": 4,
   "metadata": {},
   "outputs": [
    {
     "name": "stdout",
     "output_type": "stream",
     "text": [
      "[['Name', 'Elixir Cost', 'Hitpoints', 'Damage', 'Hit Speed', 'DPS', 'Type'], ['Archers', '3', '304', '107', '0.9', '118', 'Troop'], ['Archer Queen', '5 (1)', '1,000', '225', '1.2', '187', 'Troop'], ['Baby Dragon', '4', '1,152', '160', '1.5', '106', 'Troop'], ['Balloon', '5', '1,680', '640', '2', '320', 'Troop'], ['Bandit', '3', '907', '193', '1', '193', 'Troop'], ['Barbarians', '5', '670', '192', '1.3', '147', 'Troop'], ['Bats', '2', '81', '81', '1.3', '62', 'Troop'], ['Battle Healer', '4', '1,717', '148', '1.5', '98', 'Troop'], ['Battle Ram', '4', '966', '286', 'N/A', 'N/A', 'Troop'], ['Bomber', '2', '332', '230', '1.8', '128', 'Troop'], ['Bowler', '5', '2,080', '288', '2.5', '115', 'Troop'], ['Cannon Cart', '5', '1712 (820+892)', '212', '1', '212', 'Troop'], ['Cursed Hog', 'N/A', '629', '53', '1.2', '44', 'Troop'], ['Dark Prince', '4', '1440 (1,200+240)', '248', '1.3', '190', 'Troop'], ['Dart Goblin', '3', '260', '131', '0.7', '187', 'Troop'], ['Electro Dragon', '5', '950', '192 (x3)', '2.1', '91 (x3)', 'Troop'], ['Electro Giant', '7', '3,856', '163', '2.1', '77', 'Troop'], ['Electro Spirit', '1', '230', '99 (x9)', 'N/A', 'N/A', 'Troop'], ['Electro Wizard', '4', '713', '110 (x2)', '1.8', '122', 'Troop'], ['Elite Barbarians', '6', '1,341', '384', '1.4', '274', 'Troop'], ['Elixir Blob', 'N/A', '360', '63', '1.1', '57', 'Troop'], ['Elixir Golem', '3', '1,568', '254', '1.1', '230', 'Troop'], ['Elixir Golemite', 'N/A', '763', '127', '1.1', '115', 'Troop'], ['Executioner', '5', '1,280', '169 (x2)', '2.4', '140', 'Troop'], ['Firecracker', '3', '304', '64 (x5)', '3', '106', 'Troop'], ['Fire Spirit', '1', '230', '207', 'N/A', 'N/A', 'Troop'], ['Fisherman', '3', '871', '193', '1.3', '148', 'Troop'], ['Flying Machine', '4', '614', '171', '1.1', '155', 'Troop'], ['Giant', '5', '4,091', '254', '1.5', '169', 'Troop'], ['Giant Skeleton', '6', '3,616', '267', '1.4', '190', 'Troop'], ['Goblin Brawler', '4', '1,081', '337', '1.1', '306', 'Troop'], ['Goblin Gang', '3', '202/133', '120/81', '1.1/1.7', '109/47', 'Troop'], ['Goblin Giant', '6', '3,232', '176/81', '1.5', '117/54', 'Troop'], ['Goblins', '2', '202', '120', '1.1', '109', 'Troop'], ['Golden Knight', '4 (1)', '1,800', '160', '0.9', '177', 'Troop'], ['Golem', '8', '5,120', '312', '2.5', '124', 'Troop'], ['Golemite', 'N/A', '1,040', '49', '2.5', '19.6', 'Troop'], ['Guardienne', 'N/A', '1,600', '200', '1.2', '166', 'Troop'], ['Guards', '3', '337 (81 + 256)', '121', '1', '121', 'Troop'], ['Hog Rider', '4', '1,696', '318', '1.6', '198', 'Troop'], ['Hunter', '4', '838', '84 (x10)', '2.2', '381', 'Troop'], ['Heal Spirit', '1', '231', '110', 'N/A', 'N/A', 'Troop'], ['Ice Golem', '2', '1,197', '84', '2.5', '33', 'Troop'], ['Ice Spirit', '1', '230', '110', 'N/A', 'N/A', 'Troop'], ['Ice Wizard', '3', '688', '90', '1.7', '52', 'Troop'], ['Inferno Dragon', '4', '1,294', '36-423', '0.4', '90-1,057', 'Troop'], ['Knight', '3', '1,766', '202', '1.2', '168', 'Troop'], ['Lava Hound', '7', '3,581', '54', '1.3', '41', 'Troop'], ['Lava Pup', 'N/A', '216', '90', '1.7', '52', 'Troop'], ['Little Prince', '3 (3)', '700', '100', '1.2/0.8/0.4', '91/125/250', 'Troop'], ['Lumberjack', '4', '1,282', '242', '0.8', '302', 'Troop'], ['Magic Archer', '4', '532', '134', '1.1', '121', 'Troop'], ['Mega Knight', '7', '3,993', '268', '1.7', '157', 'Troop'], ['Mega Minion', '3', '837', '311', '1.5', '207', 'Troop'], ['Mighty Miner', '4 (1)', '2,250', '40-400', '0.4', '100-1000', 'Troop'], ['Miner', '3', '1,210', '193 (48 to towers)', '1.2', '160 (40 to towers)', 'Troop'], ['Mini P.E.K.K.A.', '4', '1,361', '720', '1.6', '450', 'Troop'], ['Minion Horde', '3', '230', '117', '1', '117', 'Troop'], ['Minions', '3', '230', '117', '1', '117', 'Troop'], ['Monk', '5 (1)', '2,150', '140/420', '0.8', '175', 'Troop'], ['Mother Witch', '4', '532', '133', '1', '133', 'Troop'], ['Musketeer', '4', '720', '218', '1', '218', 'Troop'], ['Night Witch', '4', '907', '314', '1.3', '241', 'Troop'], ['P.E.K.K.A.', '7', '3,760', '816', '1.8', '453', 'Troop'], ['Phoenix', '4', '1,052', '217', '1', '217', 'Troop'], ['Reborn Phoenix', '4', '842', '174', '1', '174', 'Troop'], ['Prince', '5', '1,920', '392', '1.4', '280', 'Troop'], ['Princess', '3', '261', '169', '3', '56', 'Troop'], ['Ram Rider', '5', '1,767', '266/104', '1.8/1.1', '147/94', 'Troop'], ['Rascal Boy', '5', '1,940', '133', '1.5', '88', 'Troop'], ['Rascal Girl', '5', '261', '133', '1', '133', 'Troop'], ['Royal Ghost', '3', '1,210', '261', '1.8', '145', 'Troop'], ['Royal Giant', '6', '3,072', '307', '1.7', '180', 'Troop'], ['Royal Hogs', '5', '837', '74', '1.2', '61', 'Troop'], ['Royal Recruits', '7', '772 (532+240)', '133', '1.3', '102', 'Troop'], ['Skeleton Army', '3', '81', '81', '1', '81', 'Troop'], ['Skeleton Barrel', '3', '532', '133', 'N/A', 'N/A', 'Troop'], ['Skeleton Dragons', '4', '563', '161', '1.9', '84', 'Troop'], ['Skeleton King', '4 (2)', '2,300', '205', '1.6', '128', 'Troop'], ['Skeletons', '1', '81', '81', '1', '81', 'Troop'], ['Sparky', '6', '1,452', '1,331', '4', '332', 'Troop'], ['Spear Goblins', '2', '133', '81', '1.7', '47', 'Troop'], ['Three Musketeers', '9', '720', '218', '1', '218', 'Troop'], ['Valkyrie', '4', '1,908', '267', '1.6', '178', 'Troop'], ['Wall Breakers', '2', '331', '392', 'N/A', 'N/A', 'Troop'], ['Witch', '5', '838', '134', '1.1', '121', 'Troop'], ['Wizard', '5', '720', '281', '1.4', '200', 'Troop'], ['Zappies', '4', '530', '116', '2.1', '55', 'Troop']]\n"
     ]
    }
   ],
   "source": [
    "\n",
    "rows = troops.findAll(\"tr\")[1:]\n",
    "for row in rows:\n",
    "    details = []\n",
    "    for td in row.contents[1:12:2]:\n",
    "        details.append(td.text)\n",
    "    details.append(\"Troop\")\n",
    "    cards.append(details)\n",
    "\n",
    "print(cards)"
   ]
  },
  {
   "cell_type": "code",
   "execution_count": 7,
   "metadata": {},
   "outputs": [
    {
     "name": "stdout",
     "output_type": "stream",
     "text": [
      "           Name Elixir Cost Hitpoints Damage Hit Speed  DPS   Type\n",
      "0       Archers           3       304    107       0.9  118  Troop\n",
      "1  Archer Queen       5 (1)     1,000    225       1.2  187  Troop\n",
      "2   Baby Dragon           4     1,152    160       1.5  106  Troop\n",
      "3       Balloon           5     1,680    640         2  320  Troop\n",
      "4        Bandit           3       907    193         1  193  Troop\n"
     ]
    }
   ],
   "source": [
    "df = pd.DataFrame(cards[1:], columns=cards[0])\n",
    "print(df.head())"
   ]
  },
  {
   "cell_type": "code",
   "execution_count": 8,
   "metadata": {},
   "outputs": [],
   "source": [
    "xcel = df.to_csv(\"troops.csv\")"
   ]
  }
 ],
 "metadata": {
  "kernelspec": {
   "display_name": "Python 3",
   "language": "python",
   "name": "python3"
  },
  "language_info": {
   "codemirror_mode": {
    "name": "ipython",
    "version": 3
   },
   "file_extension": ".py",
   "mimetype": "text/x-python",
   "name": "python",
   "nbconvert_exporter": "python",
   "pygments_lexer": "ipython3",
   "version": "3.10.11"
  }
 },
 "nbformat": 4,
 "nbformat_minor": 2
}
